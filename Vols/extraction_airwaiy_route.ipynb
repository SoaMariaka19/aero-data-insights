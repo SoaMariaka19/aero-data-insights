{
 "cells": [
  {
   "cell_type": "code",
   "execution_count": 20,
   "metadata": {},
   "outputs": [
    {
     "name": "stdout",
     "output_type": "stream",
     "text": [
      "Data saved to IB_airway_routes.csv\n"
     ]
    }
   ],
   "source": [
    "import requests\n",
    "import pandas as pd\n",
    "\n",
    "# Remplacez 'YOUR_CLIENT_ID' et 'YOUR_CLIENT_SECRET' par vos véritables informations d'authentification\n",
    "CLIENT_ID = 'Yizuai5X4gzwZrm9G7ndM6Fg7AywAu9z'\n",
    "CLIENT_SECRET = 'pfzgPDGPMAw31Wag'\n",
    "BASE_URL = 'https://test.api.amadeus.com/v1/airline/destinations'\n",
    "\n",
    "# Obtenez un jeton d'authentification\n",
    "token_url = 'https://test.api.amadeus.com/v1/security/oauth2/token'\n",
    "token_payload = {\n",
    "    'grant_type': 'client_credentials',\n",
    "    'client_id': CLIENT_ID,\n",
    "    'client_secret': CLIENT_SECRET\n",
    "}\n",
    "\n",
    "token_response = requests.post(token_url, data=token_payload)\n",
    "if token_response.status_code == 200:\n",
    "    access_token = token_response.json().get('access_token')\n",
    "    headers = {\n",
    "        'Authorization': f'Bearer {access_token}'\n",
    "    }\n",
    "\n",
    "    # Code de la compagnie aérienne IB\n",
    "    airline_code = 'IB'\n",
    "\n",
    "    params = {\n",
    "        'airlineCode': airline_code\n",
    "    }\n",
    "\n",
    "    response = requests.get(BASE_URL, params=params, headers=headers)\n",
    "\n",
    "    if response.status_code == 200:\n",
    "        data = response.json()['data']  # Obtenir la liste des données\n",
    "        \n",
    "        # Extraire et traiter les données\n",
    "        records = []\n",
    "        for item in data:\n",
    "            record = {\n",
    "                'RegionCode': item['address']['regionCode'],\n",
    "                'StateCode': item['address'].get('stateCode', ''),\n",
    "                'CountryName': item['address']['countryName'],\n",
    "                'CountryCode': item['address']['countryCode'],\n",
    "                'CityName': item['name'],\n",
    "                'IATACode': item['iataCode'],\n",
    "                'Date': item['timeZone']['referenceLocalDateTime']\n",
    "            }\n",
    "            records.append(record)\n",
    "\n",
    "        df = pd.DataFrame(records)\n",
    "        csv_file = f'{airline_code}_airway_routes.csv'\n",
    "        df.to_csv(csv_file, index=False)\n",
    "        print(f\"Data saved to {csv_file}\")\n",
    "    else:\n",
    "        print(f\"Failed to fetch data. Status code: {response.status_code}\")\n",
    "else:\n",
    "    print(f\"Failed to get access token. Status code: {token_response.status_code}\")\n"
   ]
  }
 ],
 "metadata": {
  "kernelspec": {
   "display_name": "Python 3",
   "language": "python",
   "name": "python3"
  },
  "language_info": {
   "codemirror_mode": {
    "name": "ipython",
    "version": 3
   },
   "file_extension": ".py",
   "mimetype": "text/x-python",
   "name": "python",
   "nbconvert_exporter": "python",
   "pygments_lexer": "ipython3",
   "version": "3.9.13"
  },
  "orig_nbformat": 4
 },
 "nbformat": 4,
 "nbformat_minor": 2
}
