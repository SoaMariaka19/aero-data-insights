{
 "cells": [
  {
   "cell_type": "code",
   "execution_count": 5,
   "metadata": {},
   "outputs": [
    {
     "name": "stdout",
     "output_type": "stream",
     "text": [
      "Tableau pivot créé et enregistré.\n"
     ]
    }
   ],
   "source": [
    "import pandas as pd\n",
    "\n",
    "# Lire le fichier CSV existant\n",
    "input_csv = \"2019.csv\"\n",
    "data = pd.read_csv(input_csv, header=None, names=[\"date\", \"amount\", \"quartileRanking\"])\n",
    "\n",
    "# Créer un tableau pivot avec les attributs \"date\" et \"quartileRanking\"\n",
    "pivot_table = data.pivot(index=\"date\", columns=\"quartileRanking\", values=\"amount\")\n",
    "\n",
    "# Réorganiser les colonnes dans l'ordre requis\n",
    "column_order = [\"MINIMUM\", \"FIRST\", \"MEDIUM\", \"THIRD\", \"MAXIMUM\"]\n",
    "pivot_table = pivot_table[column_order]\n",
    "\n",
    "# Enregistrer le tableau pivot dans un nouveau fichier CSV\n",
    "output_csv = \"2019.csv\"\n",
    "pivot_table.to_csv(output_csv)\n",
    "\n",
    "print(\"Tableau pivot créé et enregistré.\")\n"
   ]
  }
 ],
 "metadata": {
  "kernelspec": {
   "display_name": "Python 3",
   "language": "python",
   "name": "python3"
  },
  "language_info": {
   "codemirror_mode": {
    "name": "ipython",
    "version": 3
   },
   "file_extension": ".py",
   "mimetype": "text/x-python",
   "name": "python",
   "nbconvert_exporter": "python",
   "pygments_lexer": "ipython3",
   "version": "3.9.13"
  },
  "orig_nbformat": 4
 },
 "nbformat": 4,
 "nbformat_minor": 2
}
